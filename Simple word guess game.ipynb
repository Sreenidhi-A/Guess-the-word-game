{
 "cells": [
  {
   "cell_type": "code",
   "execution_count": 2,
   "metadata": {},
   "outputs": [
    {
     "name": "stdout",
     "output_type": "stream",
     "text": [
      "Collecting random\n",
      "Note: you may need to restart the kernel to use updated packages.\n"
     ]
    },
    {
     "name": "stderr",
     "output_type": "stream",
     "text": [
      "  ERROR: Could not find a version that satisfies the requirement random (from versions: none)\n",
      "ERROR: No matching distribution found for random\n"
     ]
    }
   ],
   "source": [
    "pip install random"
   ]
  },
  {
   "cell_type": "code",
   "execution_count": 1,
   "metadata": {},
   "outputs": [
    {
     "name": "stdout",
     "output_type": "stream",
     "text": [
      "Enter your name:nilu\n",
      "Welcome to the word game  nilu\n",
      "You have 6 chances to play....  let's START\n",
      "Guess the letter : a\n",
      "No!!!\n",
      "Guess the letter : k\n",
      "No!!!\n",
      "Guess the letter : f\n",
      "No!!!\n",
      "Guess the letter : c\n",
      "Yes!!!\n",
      "\n",
      "Do you want a clue?y\n",
      "\n",
      "CLUE: The first and last letters of the guess word are  cy\n",
      "Guess the letter : r\n",
      "Yes!!!\n",
      "Guess the letter : u\n",
      "Yes!!!\n",
      "\n",
      "So far you've guessed  3  letters correctly\n",
      "The letters you guessed correctly are  ['c', 'r', 'u']\n",
      "Try to guess the whole word curly\n",
      "Yay!!! You got the word right\n"
     ]
    }
   ],
   "source": [
    "import random\n",
    "words=['careless','curly','fired','tiring','apple','kettle','settle']\n",
    "guess_word=random.choice(words)\n",
    "hint=guess_word[0]+guess_word[-1]\n",
    "my_storeg=[]\n",
    "try_g=6\n",
    "name=input(\"Enter your name:\")\n",
    "print(\"Welcome to the word game \",name)\n",
    "print(\"You have 6 chances to play....  let's START\")\n",
    "for guess in range(try_g):\n",
    "    while(True):\n",
    "        l=input(\"Guess the letter : \")\n",
    "        if len(l)==1:\n",
    "            break\n",
    "        else:\n",
    "            print(\"Oops!!! Please guess a letter\")\n",
    "    if l in guess_word:\n",
    "        print(\"Yes!!!\")\n",
    "        my_storeg.append(l)\n",
    "    else:\n",
    "        print(\"No!!!\")\n",
    "    if guess==3:\n",
    "        print()\n",
    "        clue_req=input(\"Do you want a clue?\")\n",
    "        if clue_req.lower().startswith(\"y\"):\n",
    "            print()\n",
    "            print(\"CLUE: The first and last letters of the guess word are \",hint)\n",
    "        else:\n",
    "            print(\"You are very confident....Keep on your spirit\")\n",
    "print()\n",
    "print(\"So far you've guessed \",len(my_storeg),\" letters correctly\")\n",
    "print(\"The letters you guessed correctly are \",my_storeg)\n",
    "word_guess=input(\"Try to guess the whole word \")\n",
    "if word_guess.lower()==guess_word:\n",
    "    print(\"Yay!!! You got the word right\")\n",
    "else:\n",
    "    print(\"Sorry, you didn't get the word right... The word is \",guess_word)\n",
    "exit()          "
   ]
  },
  {
   "cell_type": "code",
   "execution_count": null,
   "metadata": {},
   "outputs": [],
   "source": []
  }
 ],
 "metadata": {
  "kernelspec": {
   "display_name": "Python 3",
   "language": "python",
   "name": "python3"
  },
  "language_info": {
   "codemirror_mode": {
    "name": "ipython",
    "version": 3
   },
   "file_extension": ".py",
   "mimetype": "text/x-python",
   "name": "python",
   "nbconvert_exporter": "python",
   "pygments_lexer": "ipython3",
   "version": "3.7.3"
  }
 },
 "nbformat": 4,
 "nbformat_minor": 2
}
